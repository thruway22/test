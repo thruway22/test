{
 "cells": [
  {
   "cell_type": "markdown",
   "id": "e6430fa5",
   "metadata": {},
   "source": [
    "# Returns, Risk and Rewards"
   ]
  },
  {
   "cell_type": "markdown",
   "id": "66d8310d",
   "metadata": {},
   "source": [
    "<a id='rate_of_return'></a>\n",
    "## 1. Rate of Return"
   ]
  },
  {
   "cell_type": "markdown",
   "id": "0b812d89",
   "metadata": {},
   "source": [
    "Recall that for a period starting from an initial price ($P_{t}$) to a final price ($P_{t+1}$), the rate of return ($R_{t,t+1}$):\n",
    "\n",
    "$$ R_{t,t+1}=\\frac{P_{t+1}-P_{t}}{P_{t}} $$\n",
    "\n",
    "Note that this equation calculates the *price* return only. To obtain the *total* return, one must also include any dividends (or interests) paid out during the subject period.\n",
    "\n",
    "$$ R_{t,t+1}=\\frac{P_{t+1}+D_{t,t+1}-P_{t}}{P_{t}} $$\n",
    "\n",
    "Expressing rate of return in the format of (1+R) is a widespread practice. This format gives out the growth factor and can be accomplished by adding 1 to both sides:\n",
    "\n",
    "$$ 1 + R_{t,t+1} = 1 + \\frac{P_{t+1}-P_{t}}{P_{t}} $$\n",
    "\n",
    "The (1+R) format is particularly useful when calculating multi-period returns, which are determined by multiplying all of the return values together.\n",
    "\n",
    "$$ 1 + R_{t,t+n}= (1+R_{t,t+1})(1+R_{t+1,t+2})(1+R_{t+2,t+3})...(1+R_{t+n-1,t+n})$$\n",
    "\n",
    "$$ R_{t,t+n}= (1+R_{t,t+1})(1+R_{t+1,t+2})(1+R_{t+2,t+3})...(1+R_{t+n-1,t+n}) - 1$$"
   ]
  },
  {
   "cell_type": "markdown",
   "id": "34dc5461",
   "metadata": {},
   "source": [
    "### 1.1. Computing Returns From Prices"
   ]
  },
  {
   "cell_type": "code",
   "execution_count": null,
   "id": "65100aa3",
   "metadata": {},
   "outputs": [],
   "source": []
  }
 ],
 "metadata": {
  "kernelspec": {
   "display_name": "Python 3 (ipykernel)",
   "language": "python",
   "name": "python3"
  },
  "language_info": {
   "codemirror_mode": {
    "name": "ipython",
    "version": 3
   },
   "file_extension": ".py",
   "mimetype": "text/x-python",
   "name": "python",
   "nbconvert_exporter": "python",
   "pygments_lexer": "ipython3",
   "version": "3.11.0"
  }
 },
 "nbformat": 4,
 "nbformat_minor": 5
}
